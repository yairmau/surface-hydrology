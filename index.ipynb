{
  "cells": [
    {
      "cell_type": "markdown",
      "metadata": {},
      "source": [
        "# About {.unnumbered}\n",
        "\n",
        "Welcome to Surface Hydrology (71630) at the Hebrew University of Jerusalem.\n",
        "This is [Yair Mau](https://yairmau.com), your host for today.\n",
        "I am a senior lecturer at the Institute of Environmental Sciences, at the Faculty of Agriculture, Food and Environment, in Rehovot, Israel.\n",
        "\n",
        "This website contains (almost) all the material you'll need for the course. If you find any mistakes, or have any comments, please email me.\n",
        "\n",
        "<div class=\"alert alert-danger\">\n",
        "The material here is not comprehensive and `does not` constitute a stand alone course in Surface Hydrology. This is only the support material for the actual presential course I give.</div>\n",
        "\n",
        "## Syllabus\n",
        "\n",
        "### Course description\n",
        "\n",
        "This is an introductory course in Surface Hydrology, dealing with some of the major processes in the hydrologic cycle: precipitation, evaporation and transpiration, infiltration, runoff generation and streamflow. The different topics will be treated using mathematical models and practical programming exercises.\n",
        "\n",
        "### Course aims\n",
        "\n",
        "The course aims at giving the students a quantitative understanding of the main processes in the hydrologic cycle. We will characterize the hydrologic cycle and its fluxes through mass balance equations. The random nature of the various processes will be studied with statistics, time series analysis, return periods, extreme value distributions, etc. We will take a “hands-on approach”, where students will actively engage with the material by analysing data and writing models using Python.\n",
        "\n",
        "### Learning outcomes\n",
        "\n",
        "On successful completion of this module, students should be able to:\n",
        "\n",
        "* Identify the various components of hydrologic budget and their interdependency. \n",
        "* Describe the various processes in hydrology (precipitation, infiltration, evaporation, etc) in a mathematical language. \n",
        "* Write computer code to analyze the statistics of hydrologic fluxes, and construct models of hydrological systems.\n",
        "\n",
        "### Books and other sources \n",
        "\n",
        "* Dingman, S. L. (2015). Physical hydrology (3rd edition). Waveland press. \n",
        "* Ward, A. D., & Trimble, S. W. (2003). Environmental hydrology. CRC Press.\n",
        "* Brutsaert, W. (2005). Hydrology: An Introduction. Cambridge University Press.\n",
        "\n",
        "### Course evaluation\n",
        "\n",
        "There will be some small projects during the semester, all worth 50% of the grade. A final and larger project (50% of the grade) will be due at the end of the semester. All projects will be done in Python (on Jupyter Notebooks).\n"
      ],
      "id": "b48036a1"
    },
    {
      "cell_type": "code",
      "metadata": {},
      "source": [
        "import sys\n",
        "print(sys.executable)"
      ],
      "id": "4ca860e9",
      "execution_count": null,
      "outputs": []
    }
  ],
  "metadata": {
    "kernelspec": {
      "name": "python3",
      "language": "python",
      "display_name": "Python 3 (ipykernel)"
    }
  },
  "nbformat": 4,
  "nbformat_minor": 5
}