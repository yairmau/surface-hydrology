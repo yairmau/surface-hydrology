{
 "cells": [
  {
   "attachments": {},
   "cell_type": "markdown",
   "metadata": {},
   "source": [
    "## Streamflow"
   ]
  },
  {
   "attachments": {},
   "cell_type": "markdown",
   "metadata": {},
   "source": [
    "## Watershed - אגן היקוות\n",
    "\n",
    "![](/archive/figures/dingman-figure10.3.png)\n",
    "![](/archive/figures/watershed-boundaries.jpg)\n",
    "![](/archive/figures/dingman-figure10.5.png)\n",
    "\n",
    "Watershed response:\n",
    "\n",
    "* The volume of water appearing in the apparent response hydrograph for a given event is usually only a fraction (often a very small fraction) of the total input. The remainder of the water input ultimately leaves the watershed as:\n",
    "  1. evapotranspiration;\n",
    "  1. streamflow that occurs so long after the event that it cannot be associated with that event; or\n",
    "  1. ground-water outflow from the watershed.\n",
    "* The water identified as the response to a given event may originate on only a fraction of the watershed; this fraction is called the contributing area.\n",
    "* The extent of the contributing area may vary from event to event and during an event.\n",
    "* At least some of the water identified as the response to a given event may be “old water” that entered the watershed in a previous event."
   ]
  },
  {
   "attachments": {},
   "cell_type": "markdown",
   "metadata": {},
   "source": [
    "## base flow separation\n",
    "\n",
    "![](/archive/figures/ward-figure5.11.png)\n",
    "\n",
    "### Base flow {-}\n",
    "\n",
    "Base flow is the portion of streamflow that is presumed to have entered the watershed in previous events and to be derived from persistent, slowly varying sources. (Ground water is usually assumed to be the main, if not the only, such source.)\n",
    "\n",
    "### Event flow {-}\n",
    "\n",
    "Event flow (also called direct runoff, storm runoff, quick flow, or storm flow) is considered to be the direct response to a given water-input event.\n",
    "\n",
    "### Total flow {-}\n",
    "\n",
    "Total flow rate at any instant $q(t)$ is the sum of event-flow rate $q^*(t)$ and base-flow rate $q_{BF}$(t):\n",
    "\n",
    "$$\n",
    "q(t) = q^*(t) + q_{BF}(t)\n",
    "$$\n",
    "\n",
    "### Attention! {-}\n",
    "Graphical flow separation techniques are heuristic\n",
    "and have no direct scientific basis."
   ]
  },
  {
   "attachments": {},
   "cell_type": "markdown",
   "metadata": {},
   "source": [
    "## Urbana, IL\n",
    "\n",
    "![](/archive/figures/urbana-IL-map.png)\n",
    "\n",
    "### hyetograph, hydrograph\n",
    "![](/archive/figures/urbana_pq.png)\n",
    "\n",
    "### notation\n",
    "![](/archive/figures/dingman-box10.1.png)\n",
    "\n",
    "### base flow separation\n",
    "![](/archive/figures/urbana_q_qstar.png)\n",
    "\n",
    "### effective precipitation = effective discharge\n",
    "\n",
    "$$\n",
    "P^* = Q^*\n",
    "$$\n",
    "\n",
    "![](/archive/figures/urbana_pstar_qstar.png)\n",
    "![](/archive/figures/dingman-figure10.49.png)\n",
    "\n",
    "### time lags\n",
    "![](/archive/figures/dingman-figure10.12.png)\n",
    "![](/archive/figures/dingman-table10.2.png)\n",
    "![](/archive/figures/urbana_lags.png)\n",
    "\n",
    "It is commonly assumed that $T_{LPC} \\simeq 0.60 \\cdot T_c$, where $T_c$ is the time of concentration, i.e., the time it takes water to travel from the hydraulically most distant part of the contributing area to the outlet.\n",
    "\n",
    "<!-- ### response time and centroid lag\n",
    "\n",
    "Dingman, page 474\n",
    "\n",
    "Watershed Size: Larger watersheds have larger T*, other things equal. Analyses of large floods by Holtan and Overton (1963) indicated that T* is strongly related to drainage area; however, the re- lationship varies from region to region, presum- ably largely because of differences in watershed geology, soils, and topography.\n",
    "Soils and Geology: Water moves fastest toward streams as overland flow and slowest as subsurface flow (as discussed more fully later in this chapter). Thus watersheds with low surface hydraulic con- ductivities (e.g., clay soils), where less infiltration and more overland flow occur, should have smaller T* than those with higher conductivities (e.g., sandy soils). If flow paths are predominantly in the subsurface, watersheds with higher hydrau- lic conductivities will have smaller values of T*.\n",
    "Slope: Steeper slopes should be associated with faster surface and subsurface water movement and hence smaller T*.\n",
    "Land Use: In general, watersheds with heavy vege- tation, especially forests, have permeable surface soils that allow rapid infiltration and subsurface flow to streams, resulting in larger T*. In contrast, sparsely vegetated watersheds tend to have lower T* because their lower surface permeability makes\n",
    "Figure 10.16 Response, q*, of linear watershed with T*=5hrto1unitofinput, P*, in 1 hr. Input rate\n",
    "p* = 1 unit/hr.\n",
    "overland flow more common. Watersheds with in- tensive urbanization (more impermeable areas and storm sewers) generally have faster water move- ment and smaller T*.\n",
    "Watershed Wetness: As seen in section 10.2.3.2, the wetness of the watershed at the time of a rainfall event (antecedent condition) usually has a significant influence on the connectivity of surface and subsur- face flow paths and the extent of the contributing area, so that a given watershed will have a smaller T* when wet than when drier. The physical relations underlying this are discussed in section 10.4.\n",
    "In the linear-watershed model the centroid lag, TLC, is equal to T*, regardless of the timing of inputs. Thus if the timing and amounts of effective water in- put and output can be determined, average TLC would appear to be the best estimate of the charac- teristic response time for a given watershed.\n",
    "\n",
    "-->"
   ]
  },
  {
   "attachments": {},
   "cell_type": "markdown",
   "metadata": {},
   "source": [
    "The centroid is a weighted-average time, each time instant is multiplied by the amount of flow in that instant.\n",
    "\n",
    "Time of precipitation centroid:\n",
    "\n",
    "$$\n",
    "t_{pc} = \\frac{\\displaystyle \\sum_{i=1}^n p_i^* \\cdot t_i}{P^*}\n",
    "$$\n",
    "\n",
    "Time of streamflow centroid:\n",
    "\n",
    "$$\n",
    "t_{qc} = \\frac{\\displaystyle \\sum_{i=1}^n q_i^* \\cdot t_i}{Q^*}\n",
    "$$"
   ]
  },
  {
   "cell_type": "code",
   "execution_count": null,
   "metadata": {},
   "outputs": [],
   "source": []
  }
 ],
 "metadata": {
  "kernelspec": {
   "display_name": "base",
   "language": "python",
   "name": "python3"
  },
  "language_info": {
   "codemirror_mode": {
    "name": "ipython",
    "version": 3
   },
   "file_extension": ".py",
   "mimetype": "text/x-python",
   "name": "python",
   "nbconvert_exporter": "python",
   "pygments_lexer": "ipython3",
   "version": "3.9.7 (default, Sep 16 2021, 08:50:36) \n[Clang 10.0.0 ]"
  },
  "vscode": {
   "interpreter": {
    "hash": "c1802537857defe7992544f25bae53dd19303308d5f945e12e7b8de650127286"
   }
  }
 },
 "nbformat": 4,
 "nbformat_minor": 4
}
