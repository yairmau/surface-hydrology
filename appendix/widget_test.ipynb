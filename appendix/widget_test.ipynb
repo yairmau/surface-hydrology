{
 "cells": [
  {
   "attachments": {},
   "cell_type": "markdown",
   "metadata": {},
   "source": [
    "---\n",
    "title: \"Widget Tests\"\n",
    "execute:\n",
    "  freeze: auto  # re-render only when source changes\n",
    "jupyter: python3\n",
    "---"
   ]
  },
  {
   "cell_type": "code",
   "execution_count": null,
   "metadata": {
    "vscode": {
     "languageId": "plaintext"
    }
   },
   "outputs": [],
   "source": [
    "import numpy as np\n",
    "import matplotlib.pyplot as plt\n",
    "from scipy.stats import genextreme\n",
    "from matplotlib.widgets import Slider\n",
    "\n",
    "# Define the initial values of the parameters\n",
    "c_init = 0.5\n",
    "loc_init = 0.0\n",
    "scale_init = 1.0\n",
    "\n",
    "# Define the x range for the plot\n",
    "x = np.linspace(-10, 10, 1000)\n",
    "\n",
    "# Define the GEV distribution with the initial parameter values\n",
    "y_init = genextreme.pdf(x, c_init, loc_init, scale_init)\n",
    "\n",
    "# Create the plot and sliders\n",
    "fig, ax = plt.subplots()\n",
    "plt.subplots_adjust(left=0.25, bottom=0.25)\n",
    "l, = plt.plot(x, y_init, lw=2)\n",
    "ax.margins(x=0)\n",
    "\n",
    "axcolor = 'lightgoldenrodyellow'\n",
    "ax_c = plt.axes([0.25, 0.1, 0.65, 0.03], facecolor=axcolor)\n",
    "ax_loc = plt.axes([0.25, 0.15, 0.65, 0.03], facecolor=axcolor)\n",
    "ax_scale = plt.axes([0.25, 0.2, 0.65, 0.03], facecolor=axcolor)\n",
    "\n",
    "s_c = Slider(ax_c, 'c', -5.0, 5.0, valinit=c_init)\n",
    "s_loc = Slider(ax_loc, 'loc', -5.0, 5.0, valinit=loc_init)\n",
    "s_scale = Slider(ax_scale, 'scale', -5.0, 5.0, valinit=scale_init)\n",
    "\n",
    "# Define the update function for the sliders\n",
    "def update(val):\n",
    "    c = s_c.val\n",
    "    loc = s_loc.val\n",
    "    scale = s_scale.val\n",
    "\n",
    "    y_new = genextreme.pdf(x,c=c,scale=scale,loc=loc)\n",
    "    l.set_ydata(y_new)\n",
    "    fig.canvas.draw_idle()\n",
    "\n",
    "s_c.on_changed(update)\n",
    "s_loc.on_changed(update)\n",
    "s_scale.on_changed(update)\n",
    "\n",
    "plt.show()\n",
    "\n"
   ]
  }
 ],
 "metadata": {
  "kernelspec": {
   "display_name": "base",
   "language": "python",
   "name": "python3"
  },
  "language_info": {
   "codemirror_mode": {
    "name": "ipython",
    "version": 3
   },
   "file_extension": ".py",
   "mimetype": "text/x-python",
   "name": "python",
   "nbconvert_exporter": "python",
   "pygments_lexer": "ipython3",
   "version": "3.9.7 (default, Sep 16 2021, 08:50:36) \n[Clang 10.0.0 ]"
  },
  "orig_nbformat": 4,
  "vscode": {
   "interpreter": {
    "hash": "c1802537857defe7992544f25bae53dd19303308d5f945e12e7b8de650127286"
   }
  }
 },
 "nbformat": 4,
 "nbformat_minor": 2
}
