{
 "cells": [
  {
   "attachments": {},
   "cell_type": "markdown",
   "metadata": {},
   "source": [
    "---\n",
    "title: \"Assignment 1 - Precipitation\"\n",
    "execute:\n",
    "  freeze: auto  # re-render only when source changes\n",
    "jupyter: python3\n",
    "---"
   ]
  },
  {
   "attachments": {},
   "cell_type": "markdown",
   "metadata": {},
   "source": [
    "## 📒 instructions\n",
    "This is where learning happens, not during a lecture. You'll learn a ton of things by doing them yourself. Much success! 😄\n",
    "\n",
    "Create a Jupyter Notebook called `assignment-01-IDNUMBER`, where `IDNUMBER` is your 9-digit ID. This is the file only file we will check.\n",
    "\n",
    "## 📌 locations\n",
    "Choose two meteorologic stations from NOAA's **[Global Summary of the Month](https://gis.ncdc.noaa.gov/maps/ncei/cdo/monthly)**.  \n",
    "Criteria:  \n",
    "1. at least 60 years of data for each station.  \n",
    "2. choose stations with different characteristics, regarding mean annual precipitation, seasonality, extreme events, etc.\n",
    "\n",
    "## 🛠 tasks\n",
    "Analyze the data and make graphs showing the differences and similarities between the two locations you chose. The analyses and graphs should be similar to those we saw during our lectures and exercise sessions. Of course, if you find something interesting we did not do in class, you are more than welcome to show it. Discuss about:  \n",
    "1. mean annual precipitation and inter-annual variability.  \n",
    "2. intra-annual variability (seasonality).  \n",
    "3. extreme rainfall events and return times.\n",
    "\n",
    "You will have **two weeks** to deliver your assignment. You should **not** hand in a dry document with only figures and code, I'm expecting text before and after each code/graph cell, explaining what you did, why you did it, and how it fits the story you are telling. Don't forget to put labels on your plot axes, title, legend, etc.  \n",
    "\n",
    "Your Jupyter Notebook should be **fully functional**: if we press `Kernel > Restart & Run All`, all the code must work without any errors.\n",
    "\n",
    "## 🌅 presentation\n",
    "All the assignment must be in **one single** Jupyter Notebook. Use markdown cells to discuss the analysis and results, and in code cells show **all the code** you used to produce the figures and data analysis. Leave only the code necessary for your analysis, delete unnecessary lines your wrote while analyzing your data. Don't forget to comment your code, just like we did during exercise sessions. You should write this assignment in English."
   ]
  }
 ],
 "metadata": {
  "kernelspec": {
   "display_name": "base",
   "language": "python",
   "name": "python3"
  },
  "language_info": {
   "codemirror_mode": {
    "name": "ipython",
    "version": 3
   },
   "file_extension": ".py",
   "mimetype": "text/x-python",
   "name": "python",
   "nbconvert_exporter": "python",
   "pygments_lexer": "ipython3",
   "version": "3.9.7 (default, Sep 16 2021, 08:50:36) \n[Clang 10.0.0 ]"
  },
  "vscode": {
   "interpreter": {
    "hash": "c1802537857defe7992544f25bae53dd19303308d5f945e12e7b8de650127286"
   }
  }
 },
 "nbformat": 4,
 "nbformat_minor": 4
}
