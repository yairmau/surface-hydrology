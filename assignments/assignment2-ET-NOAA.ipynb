{
 "cells": [
  {
   "cell_type": "markdown",
   "metadata": {},
   "source": [
    "---\n",
    "title: \"Assignment - ET\"\n",
    "execute:\n",
    "  # echo: false\n",
    "  freeze: auto  # re-render only when source changes\n",
    "format:\n",
    "  html:\n",
    "    code-fold: true\n",
    "    code-summary: \"Show the code\"\n",
    "---"
   ]
  },
  {
   "cell_type": "markdown",
   "metadata": {},
   "source": [
    "This assignment relates to the content learned in the lecture on [evapotranspiration](/evapotranspiration/evapotranspiration-lecture.qmd).\n",
    "\n",
    "Choose a new location from [NOAA](https://www.ncei.noaa.gov/access/crn/), one we have not worked with yet.\n",
    "In this assignment, you will analyze meteorological data and produce estimates of potential evapotranspiration using Penman's equation.\n",
    "\n",
    "* Write an introduction. Explain where is your station, what climate is has, mark it on a map, and give other general information relevant to this project.\n",
    "* Download three years of data for the station you chose.\n",
    "* Use the library PYET to calculate potential ET for all the three years you chose.\n",
    "* Plot graphs of the potential ET and of the other major variables related to the PET computation.\n",
    "* Do you see interesting patterns in the data?\n",
    "* Does potential ET change across seasons and across years? Comment on that.\n",
    "\n",
    "You will have three weeks to submit this assignment from the date Yair mentioned it in class.\n",
    "\n",
    "Best of luck!"
   ]
  }
 ],
 "metadata": {
  "kernelspec": {
   "display_name": "base",
   "language": "python",
   "name": "python3"
  },
  "language_info": {
   "codemirror_mode": {
    "name": "ipython",
    "version": 3
   },
   "file_extension": ".py",
   "mimetype": "text/x-python",
   "name": "python",
   "nbconvert_exporter": "python",
   "pygments_lexer": "ipython3",
   "version": "3.10.14"
  }
 },
 "nbformat": 4,
 "nbformat_minor": 2
}
