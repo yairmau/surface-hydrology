{
 "cells": [
  {
   "attachments": {},
   "cell_type": "markdown",
   "metadata": {},
   "source": [
    "## Assignment - Streamflow"
   ]
  },
  {
   "attachments": {},
   "cell_type": "markdown",
   "metadata": {},
   "source": [
    "## 📒 instructions\n",
    "This is where learning happens, not during a lecture. You'll learn a ton of things by doing them yourself. Much success! 😄\n",
    "\n",
    "Create a Jupyter Notebook called `assignment-03-IDNUMBER`, where `IDNUMBER` is your 9-digit ID. This is the file only file we will check.\n",
    "\n",
    "## 📌 locations and data\n",
    "\n",
    "**Choose one location in the US.**\n",
    "\n",
    "1. Import streamflow data from USGS's [National Water Information System](https://maps.waterdata.usgs.gov/mapper/index.html). Choose on the map any measuring station you see fit. Make sure there is available discharge data (usually given in cubic feet per second) in small time intervals, e.g., every 15 minutes.\n",
    "\n",
    "2. In the same map, find a nearby weather station that provides precipitation data. Try to find one that has a high temporal resolution (e.g., 5 minutes, 15 minutes). There are a lot more streamflow stations than weather stations, so you might have to look around a bit. A good strategy is to first find a weather station, and then look for a streamflow station nearby.\n",
    "\n",
    "3. Make sure both datasets look good.\n",
    "\n",
    "## 🛠 tasks\n",
    "\n",
    "Choose a rain event of a few hours in your data set. Find the rate of effective water input (p*) and the event flow rate (q*). Analyze the data in a similar was as done during class (various graphs explaining what you see). Find also the characteristic times of the event (centroid lag $T_{LC}$, centroid lag-to-peak $T_{LPC}$, and time of concentration $T_c$).\n",
    "\n",
    "Try to find information on the climate, geography, soil, and land use of the watershed. Begin the assignment by explaining about the watershed you chose and characterizing it. When presenting the data and your analyses, discuss what you see based on the concepts learned in class (infiltration, runoff generation, and the factors that affect them). Does the information you found match what you see? What makes sense, and what doesn't?\n",
    "\n",
    "Useful tool:\n",
    "\n",
    "* <https://mghydro.com/watersheds/>  \n",
    "  Point and click at any coordinate (latitude, longitude), and then choose \"delineate\". On the left side of the screen you'll find \"Watershed Data Report\". You can type any coordinate under \"Options > Enter Coordinates\".\n",
    "\n",
    "You will have **two weeks** to deliver your assignment. You should **not** hand in a dry document with only figures and code, I'm expecting text before and after each code/graph cell, explaining what you did, why you did it, and how it fits the story you are telling. Don't forget to put labels on your plot axes, title, legend, etc.  \n",
    "\n",
    "Discussion is important!\n",
    "\n",
    "Your Jupyter Notebook should be **fully functional**: if we press `Kernel > Restart & Run All`, all the code must work without any errors."
   ]
  },
  {
   "cell_type": "code",
   "execution_count": null,
   "metadata": {},
   "outputs": [],
   "source": []
  }
 ],
 "metadata": {
  "kernelspec": {
   "display_name": "base",
   "language": "python",
   "name": "python3"
  },
  "language_info": {
   "codemirror_mode": {
    "name": "ipython",
    "version": 3
   },
   "file_extension": ".py",
   "mimetype": "text/x-python",
   "name": "python",
   "nbconvert_exporter": "python",
   "pygments_lexer": "ipython3",
   "version": "3.9.7 (default, Sep 16 2021, 08:50:36) \n[Clang 10.0.0 ]"
  },
  "vscode": {
   "interpreter": {
    "hash": "c1802537857defe7992544f25bae53dd19303308d5f945e12e7b8de650127286"
   }
  }
 },
 "nbformat": 4,
 "nbformat_minor": 4
}
