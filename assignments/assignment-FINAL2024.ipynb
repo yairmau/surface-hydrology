{
  "cells": [
    {
      "cell_type": "raw",
      "metadata": {},
      "source": [
        "---\n",
        "title: Final Assignment 2024\n",
        "execute:\n",
        "  freeze: auto\n",
        "---"
      ],
      "id": "a85fb7f4"
    },
    {
      "cell_type": "markdown",
      "metadata": {},
      "source": [
        "## 📒 instructions\n",
        "This is where learning happens, not during a lecture. You'll learn a ton of things by doing them yourself. Much success! 😄\n",
        "\n",
        "Create **two** Jupyter Notebooks called\n",
        "\n",
        "1. `assignment-FINAL-CODE-IDNUMBER`, and\n",
        "2. `assignment-FINAL-REPORT-IDNUMBER`,\n",
        "where `IDNUMBER` is your 9-digit ID.\n",
        "\n",
        "Make a zip file that includes these notebooks and any other data needed to run your code (e.g. csv files).\n",
        "\n",
        "\n",
        "## 📌 locations and data\n",
        "\n",
        "**Choose one location in the US.**\n",
        "\n",
        "Download relevant data from NOAA's [Global Summary of the Month](https://gis.ncdc.noaa.gov/maps/ncei/cdo/monthly),  NOAA's [Climate Reference Network Data](https://www.ncdc.noaa.gov/crn/qcdatasets.html), and from the USGS's [National Water Information System](https://maps.waterdata.usgs.gov/mapper/index.html).\n",
        "\n",
        "Try to find locations with many years of data, the more the better. Take some time to choose your station, plan well. **Choose a location you have not worked with in past assignments.**\n",
        "\n",
        "## 🛠 tasks\n",
        "\n",
        "In this final project, we will integrate the various topics we learned throughout the semester. You will tell a story about the location you chose, and describe the changes it experienced in the past many decades. You can focus on any kind of changes that would influence the hydrological fluxes we learned about. Here are a few examples of changes that you might work on:\n",
        "\n",
        "* severe droughts in part of the studied period, or an increasing trend in drought severity.\n",
        "* same as above for rainfall/floods, high temperatures, low temperatures, etc.\n",
        "* significant changes in land use, such as urbanization, deforestation, agricultural practices, etc.\n",
        "\n",
        "The list above is not comprehensive, you can choose other factors. Consult with me in case of doubt.\n",
        "\n",
        "Try to find in scientific papers evidence for the change you are focusing on. Cite at least one peer-reviewed scientific paper.\n",
        "\n",
        "Can you see the same when analyzing data for the location you chose? Do your findings corroborate the expectation you had when you started this project? If they don't, can you explain why? Did you reach interesting or surprising conclusions in your analysis?\n",
        "\n",
        "Analyze your location's history with respect to the following:\n",
        "\n",
        "* Precipitation: seasonality, inter-annual variability, extreme precipitation events and return periods.\n",
        "* Potential evapotranspiration: Calculate PET using Penman's equation for at least three different years of interest (not necessarily contiguous years). \n",
        "* Analyze streamflow statistics in a similar manner as for precipitation: extreme discharge events and return periods.\n",
        "\n",
        "Try to connect the dots: how do your different findings fit together? Discuss what you are trying to show, tell your story with the help of the data and your analyses. If you find things that go contrary to your expectations, can you raise hypotheses of why you see what you see?\n",
        "\n",
        "## 🌅 presentation\n",
        "All the assignment must be in **two** Jupyter Notebooks.\n",
        "\n",
        "The notebook called `CODE` will contain all the code for the analyses you made. It must be fully functional, i.e., we must be able to Run All and not get any errors. Explain what you are doing in each step. Comment your code. Use markdown cells to split the notebook into subsections, one for each analysis (e.g.: `## Precipitation Analysis`, `### Inter-annual variability`, etc).\n",
        "\n",
        "The notebook called `Report` will contain graphs and relevant data from the `CODE` notebook. It is here where you will introduce the location you chose, what you are trying to see. Here you will write all the results and discussion, as supported by the graphs and results you produced. Divide this notebook into sections: Introduction, Results and Discussion, Conclusion. Subdivide the sections into subsections when needed. In this file there should be no code at all.\n",
        "\n",
        "## 🔜 deadline\n",
        "\n",
        "The submission deadline is July 25, 2023. You should **not** hand in a dry document with only figures and code, I'm expecting text before and after each code/graph cell, explaining what you did, why you did it, and how it fits the story you are telling. Don't forget to put labels on your plot axes, title, legend, etc.  Please refer to the main [Assignments page](/assignments/assignments-general.qmd) for more details on how to write this report.\n",
        "\n",
        "Your Jupyter Notebook should be **fully functional**: if we press `Kernel > Restart & Run All`, all the code must work without any errors.\n",
        "\n",
        "To maximize success chances, every student should contact me (Yair) to tell me which location they chose and what is interesting about it. Please do so as soon as possible."
      ],
      "id": "9b7c52d3"
    }
  ],
  "metadata": {
    "kernelspec": {
      "name": "python3",
      "language": "python",
      "display_name": "Python 3 (ipykernel)"
    }
  },
  "nbformat": 4,
  "nbformat_minor": 5
}