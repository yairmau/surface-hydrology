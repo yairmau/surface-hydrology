{
 "cells": [
  {
   "cell_type": "markdown",
   "metadata": {},
   "source": [
    "---\n",
    "title: \"Assignment - return period\"\n",
    "execute:\n",
    "  # echo: false\n",
    "  freeze: auto  # re-render only when source changes\n",
    "format:\n",
    "  html:\n",
    "    code-fold: true\n",
    "    code-summary: \"Show the code\"\n",
    "---"
   ]
  },
  {
   "cell_type": "markdown",
   "metadata": {},
   "source": [
    "This assignment relates to the content learned in the lecture on [return period]((/precipitation/return-period-lecture.ipynb)).\n",
    "\n",
    "Choose a new location from NOAA’s National Centers for Environmental Information (NCEI) that we have not previously analyzed. It can be anywhere on Earth. Download daily precipitation data for a period **longer than 60 years**, or even longer if available.\n",
    "\n",
    "In this assignment, you will analyze extreme precipitation events for the chosen location. The required analyses include:\n",
    "\n",
    "* Show monthly precipitation averages and discuss which hydrological year definition makes the most sense.\n",
    "* Show the distribution of annual daily maxima and comment on your observations.\n",
    "* Fit the GEV (Generalized Extreme Value) parameters to your data. Plot both the PDF (Probability Density Function) and CDF (Cumulative Distribution Function) for your data alongside the fitted GEV functions. Does the fit appear reasonable visually?\n",
    "* Show a graph of annual daily maxima against the return times. Include dots for experimental data and a line for the calculated return times based on the GEV distribution. Do they agree everywhere? Describe your observations.\n",
    "* Provide a table for the precipitation values corresponding to \"one in X-years precipitation events\". Choose values that make sense to you and comment on these results.\n",
    "\n",
    "You will have two weeks to submit this assignment from the date Yair mentioned it in class.\n",
    "\n",
    "Best of luck!"
   ]
  }
 ],
 "metadata": {
  "kernelspec": {
   "display_name": "base",
   "language": "python",
   "name": "python3"
  },
  "language_info": {
   "codemirror_mode": {
    "name": "ipython",
    "version": 3
   },
   "file_extension": ".py",
   "mimetype": "text/x-python",
   "name": "python",
   "nbconvert_exporter": "python",
   "pygments_lexer": "ipython3",
   "version": "3.10.14"
  }
 },
 "nbformat": 4,
 "nbformat_minor": 2
}
